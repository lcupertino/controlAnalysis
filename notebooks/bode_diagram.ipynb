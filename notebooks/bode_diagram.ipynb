{
 "cells": [
  {
   "cell_type": "markdown",
   "id": "1ec8e783",
   "metadata": {},
   "source": [
    "# Diagrama de Bode com Python\n",
    "\n",
    "### Módulos necessários"
   ]
  },
  {
   "cell_type": "code",
   "execution_count": 1,
   "id": "795047f6",
   "metadata": {},
   "outputs": [],
   "source": [
    "import numpy as np\n",
    "import matplotlib.pyplot as plt\n",
    "import control\n",
    "import argparse"
   ]
  },
  {
   "cell_type": "markdown",
   "id": "7e5f521d",
   "metadata": {},
   "source": [
    "Opcionalmente, podem ser adicionadas algumas configurações para formatação dos gráficos"
   ]
  },
  {
   "cell_type": "code",
   "execution_count": 2,
   "id": "3e1f1850",
   "metadata": {},
   "outputs": [],
   "source": [
    "plt.rcParams.update({\n",
    "    \"text.usetex\":True\n",
    "})"
   ]
  },
  {
   "cell_type": "markdown",
   "id": "80e1c541",
   "metadata": {},
   "source": [
    "Definindo a função de transferência $G(s)$ em função do ganho $K$, do numerados $A(s)$ e do denomidador $B(s)$ tal que: $$G(s) = K\\dfrac{A(s)}{B(s)}$$\n",
    "\n",
    "Para a definção de polinômios, utiliza-se a estrutura de listas de modo que $$A(s) = \\sum_{0 \\le i \\le m}a_{i}x^{m-i} \\equiv \\vec{v} = [a_{0},\\ a_{1},\\ldots,a_{m}]$$"
   ]
  },
  {
   "cell_type": "markdown",
   "id": "b24a13f5",
   "metadata": {},
   "source": [
    "### Exemplo\n",
    "Definindo uma função de transferência $G(s)$ dada por: $$G(s) = \\dfrac{10}{s(s+10)}$$ Utilizamos a seguinte formulação em *Python*:"
   ]
  },
  {
   "cell_type": "code",
   "execution_count": 3,
   "id": "8728aef7",
   "metadata": {},
   "outputs": [],
   "source": [
    "K = 10.0\n",
    "num, den = [1.0], [1.0, 10.0]"
   ]
  },
  {
   "cell_type": "markdown",
   "id": "ec51ebce",
   "metadata": {},
   "source": [
    "Para os gráficos, executamos as células $4$ e $5$."
   ]
  },
  {
   "cell_type": "code",
   "execution_count": 4,
   "id": "9145043e",
   "metadata": {},
   "outputs": [],
   "source": [
    "Gp = K*control.tf(num, den)"
   ]
  },
  {
   "cell_type": "code",
   "execution_count": 5,
   "id": "0db45f58",
   "metadata": {},
   "outputs": [
    {
     "data": {
      "image/png": "[encoded data removed]",
      "text/plain": [
       "<Figure size 432x288 with 2 Axes>"
      ]
     },
     "metadata": {
      "needs_background": "light"
     },
     "output_type": "display_data"
    }
   ],
   "source": [
    "magnitude, phase, omega = control.bode(Gp)"
   ]
  },
  {
   "cell_type": "markdown",
   "id": "83d2a883",
   "metadata": {},
   "source": [
    "## Adição de atraso puro $e^{-sT}$\n",
    "\n",
    "Se quisermos adicionar um atraso puro e aproximar segundo as fórmulas de *Padé*, utilizamos a seguinte formulação:$$\\left(A(s),\\ B(s)\\right) \\leftarrow P(\\alpha,\\ n)$$ Onde $\\alpha$ representa a constante associada ao atraso e $n$ a ordem da aproximação de *Padé*."
   ]
  },
  {
   "cell_type": "code",
   "execution_count": 6,
   "id": "2bfd6dfa",
   "metadata": {},
   "outputs": [
    {
     "name": "stdout",
     "output_type": "stream",
     "text": [
      "\n",
      "     -10 s^3 + 480 s^2 - 9600 s + 7.68e+04\n",
      "------------------------------------------------\n",
      "s^4 + 58 s^3 + 1440 s^2 + 1.728e+04 s + 7.68e+04\n",
      "\n"
     ]
    }
   ],
   "source": [
    "(num,den) = control.pade(0.25, 3)\n",
    "Gp = control.tf(num,den)*Gp\n",
    "print(Gp)"
   ]
  },
  {
   "cell_type": "markdown",
   "id": "15a2d11c",
   "metadata": {},
   "source": [
    "## Lista 7"
   ]
  },
  {
   "cell_type": "markdown",
   "id": "a2500973",
   "metadata": {},
   "source": [
    "### Exercício 1"
   ]
  },
  {
   "cell_type": "markdown",
   "id": "05babeed",
   "metadata": {},
   "source": [
    "### Exercício 1"
   ]
  },
  {
   "cell_type": "markdown",
   "id": "a40b6b05",
   "metadata": {},
   "source": [
    "### Exercício 1"
   ]
  },
  {
   "cell_type": "markdown",
   "id": "4c503842",
   "metadata": {},
   "source": [
    "### Exercício 1"
   ]
  },
  {
   "cell_type": "markdown",
   "id": "2748a4bf",
   "metadata": {},
   "source": [
    "### Exercício 1"
   ]
  },
  {
   "cell_type": "markdown",
   "id": "f828fa81",
   "metadata": {},
   "source": [
    "### Exercício 1"
   ]
  },
  {
   "cell_type": "markdown",
   "id": "6850ffdb",
   "metadata": {},
   "source": [
    "### Exercício 1"
   ]
  },
  {
   "cell_type": "markdown",
   "id": "3a0a97aa",
   "metadata": {},
   "source": [
    "### Exercício 1"
   ]
  }
 ],
 "metadata": {
  "kernelspec": {
   "display_name": "control",
   "language": "python",
   "name": "control"
  },
  "language_info": {
   "codemirror_mode": {
    "name": "ipython",
    "version": 3
   },
   "file_extension": ".py",
   "mimetype": "text/x-python",
   "name": "python",
   "nbconvert_exporter": "python",
   "pygments_lexer": "ipython3",
   "version": "3.10.7"
  }
 },
 "nbformat": 4,
 "nbformat_minor": 5
}
